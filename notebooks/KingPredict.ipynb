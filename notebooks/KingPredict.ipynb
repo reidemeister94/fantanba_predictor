{
 "cells": [
  {
   "cell_type": "code",
   "execution_count": 1,
   "metadata": {},
   "outputs": [],
   "source": [
    "import telegram\n",
    "from telegram.ext import Updater\n",
    "import logging\n",
    "from telegram.ext import CommandHandler\n",
    "from telegram.ext import MessageHandler, Filters\n",
    "from telegram.error import (TelegramError, Unauthorized, BadRequest, \n",
    "                            TimedOut, ChatMigrated, NetworkError)"
   ]
  },
  {
   "cell_type": "code",
   "execution_count": 2,
   "metadata": {},
   "outputs": [],
   "source": [
    "token_api = os.environ['API_TOKEN']"
   ]
  },
  {
   "cell_type": "code",
   "execution_count": 3,
   "metadata": {},
   "outputs": [],
   "source": [
    "bot = telegram.Bot(token=token_api)"
   ]
  },
  {
   "cell_type": "code",
   "execution_count": 4,
   "metadata": {},
   "outputs": [
    {
     "name": "stdout",
     "output_type": "stream",
     "text": [
      "{'id': 584681226, 'first_name': 'KingPredict', 'is_bot': True, 'username': 'KingPredictBot'}\n"
     ]
    }
   ],
   "source": [
    "print(bot.get_me())"
   ]
  },
  {
   "cell_type": "code",
   "execution_count": 5,
   "metadata": {},
   "outputs": [],
   "source": [
    "updater = Updater(token=token_api)\n",
    "dispatcher = updater.dispatcher\n",
    "logging.basicConfig(format='%(asctime)s - %(name)s - %(levelname)s - %(message)s',level=logging.INFO)"
   ]
  },
  {
   "cell_type": "code",
   "execution_count": 6,
   "metadata": {},
   "outputs": [],
   "source": [
    "def start(bot, update):\n",
    "    bot.send_message(chat_id = update.message.chat_id, text = \"I'm a bot, please talk to me!\")\n",
    "    \n",
    "def echo(bot, update):\n",
    "    bot.send_message(chat_id = update.message.chat_id, text = update.message.text)\n",
    "    \n",
    "def caps(bot, update, args):\n",
    "    text_caps = ' '.join(args).upper()\n",
    "    bot.send_message(chat_id = update.message.chat_id, text = text_caps)\n",
    "    \n",
    "def computeteam(bot, update, args):\n",
    "    credits_total = float(args)\n",
    "    team_list = make_everything(credits_total)\n",
    "\n",
    "def error_callback(bot, update, error):\n",
    "    try:\n",
    "        raise error\n",
    "    except Unauthorized:\n",
    "        # remove update.message.chat_id from conversation list\n",
    "        print(\"Unauthorized\")\n",
    "    except BadRequest:\n",
    "        # handle malformed requests - read more below!\n",
    "        bot.send_message(chat_id = update.message.chat_id, text = \"Your message can't be empty!\")\n",
    "    except TimedOut:\n",
    "        # handle slow connection problems\n",
    "        print(\"TimedOut\")\n",
    "    except NetworkError:\n",
    "        # handle other connection problems\n",
    "        print(\"NetworkError\")\n",
    "    except ChatMigrated as e:\n",
    "        # the chat_id of a group has changed, use e.new_chat_id instead\n",
    "        print(\"ChatMigrated\")\n",
    "    except TelegramError:\n",
    "        # handle all other telegram related errors\n",
    "        print(\"TelegramError\")"
   ]
  },
  {
   "cell_type": "code",
   "execution_count": 7,
   "metadata": {},
   "outputs": [],
   "source": [
    "start_handler = CommandHandler('start', start)\n",
    "dispatcher.add_handler(start_handler)\n",
    "\n",
    "echo_handler = MessageHandler(Filters.text, echo)\n",
    "dispatcher.add_handler(echo_handler)\n",
    "\n",
    "caps_handler = CommandHandler('caps', caps, pass_args=True)\n",
    "dispatcher.add_handler(caps_handler)\n",
    "\n",
    "dispatcher.add_error_handler(error_callback)"
   ]
  },
  {
   "cell_type": "code",
   "execution_count": 9,
   "metadata": {},
   "outputs": [
    {
     "data": {
      "text/plain": [
       "<queue.Queue at 0x11028c668>"
      ]
     },
     "execution_count": 9,
     "metadata": {},
     "output_type": "execute_result"
    },
    {
     "name": "stderr",
     "output_type": "stream",
     "text": [
      "2018-04-30 05:49:55,387 - telegram.ext.updater - ERROR - Error while getting Updates: urllib3 HTTPError ('Connection aborted.', ConnectionResetError(54, 'Connection reset by peer'))\n"
     ]
    },
    {
     "name": "stdout",
     "output_type": "stream",
     "text": [
      "NetworkError\n"
     ]
    },
    {
     "name": "stderr",
     "output_type": "stream",
     "text": [
      "2018-04-30 07:38:05,134 - telegram.ext.updater - ERROR - Error while getting Updates: urllib3 HTTPError ('Connection aborted.', ConnectionResetError(54, 'Connection reset by peer'))\n"
     ]
    },
    {
     "name": "stdout",
     "output_type": "stream",
     "text": [
      "NetworkError\n"
     ]
    },
    {
     "name": "stderr",
     "output_type": "stream",
     "text": [
      "2018-04-30 11:18:58,845 - telegram.vendor.ptb_urllib3.urllib3.connectionpool - WARNING - Retrying (Retry(total=2, connect=None, read=None, redirect=None)) after connection broken by 'NewConnectionError('<telegram.vendor.ptb_urllib3.urllib3.connection.VerifiedHTTPSConnection object at 0x1102a8f98>: Failed to establish a new connection: [Errno 8] nodename nor servname provided, or not known',)': /bot584681226:AAG1F0B6Liietx8njooXXLl238x7ThjU2nQ/getUpdates\n",
      "2018-04-30 11:29:47,002 - telegram.vendor.ptb_urllib3.urllib3.connectionpool - WARNING - Retrying (Retry(total=2, connect=None, read=None, redirect=None)) after connection broken by 'ConnectTimeoutError(<telegram.vendor.ptb_urllib3.urllib3.connectionpool.HTTPSConnectionPool object at 0x11028cfd0>, 'Connect timed out. (connect timeout=5.0)')': /bot584681226:AAG1F0B6Liietx8njooXXLl238x7ThjU2nQ/getUpdates\n",
      "2018-04-30 11:29:53,141 - telegram.vendor.ptb_urllib3.urllib3.connectionpool - WARNING - Retrying (Retry(total=1, connect=None, read=None, redirect=None)) after connection broken by 'ConnectTimeoutError(<telegram.vendor.ptb_urllib3.urllib3.connectionpool.HTTPSConnectionPool object at 0x11028cfd0>, 'Connect timed out. (connect timeout=5.0)')': /bot584681226:AAG1F0B6Liietx8njooXXLl238x7ThjU2nQ/getUpdates\n",
      "2018-04-30 11:30:02,498 - telegram.vendor.ptb_urllib3.urllib3.connectionpool - WARNING - Retrying (Retry(total=0, connect=None, read=None, redirect=None)) after connection broken by 'ConnectTimeoutError(<telegram.vendor.ptb_urllib3.urllib3.connectionpool.HTTPSConnectionPool object at 0x11028cfd0>, 'Connect timed out. (connect timeout=5.0)')': /bot584681226:AAG1F0B6Liietx8njooXXLl238x7ThjU2nQ/getUpdates\n",
      "2018-04-30 11:30:09,544 - telegram.ext.updater - ERROR - Error while getting Updates: urllib3 HTTPError HTTPSConnectionPool(host='api.telegram.org', port=443): Max retries exceeded with url: /bot584681226:AAG1F0B6Liietx8njooXXLl238x7ThjU2nQ/getUpdates (Caused by ConnectTimeoutError(<telegram.vendor.ptb_urllib3.urllib3.connectionpool.HTTPSConnectionPool object at 0x11028cfd0>, 'Connect timed out. (connect timeout=5.0)'))\n"
     ]
    },
    {
     "name": "stdout",
     "output_type": "stream",
     "text": [
      "NetworkError\n"
     ]
    },
    {
     "name": "stderr",
     "output_type": "stream",
     "text": [
      "2018-04-30 11:30:19,196 - telegram.vendor.ptb_urllib3.urllib3.connectionpool - WARNING - Retrying (Retry(total=2, connect=None, read=None, redirect=None)) after connection broken by 'ConnectTimeoutError(<telegram.vendor.ptb_urllib3.urllib3.connectionpool.HTTPSConnectionPool object at 0x11028cfd0>, 'Connect timed out. (connect timeout=5.0)')': /bot584681226:AAG1F0B6Liietx8njooXXLl238x7ThjU2nQ/getUpdates\n",
      "2018-04-30 11:30:26,974 - telegram.vendor.ptb_urllib3.urllib3.connectionpool - WARNING - Retrying (Retry(total=1, connect=None, read=None, redirect=None)) after connection broken by 'ConnectTimeoutError(<telegram.vendor.ptb_urllib3.urllib3.connectionpool.HTTPSConnectionPool object at 0x11028cfd0>, 'Connect timed out. (connect timeout=5.0)')': /bot584681226:AAG1F0B6Liietx8njooXXLl238x7ThjU2nQ/getUpdates\n",
      "2018-04-30 11:30:34,865 - telegram.vendor.ptb_urllib3.urllib3.connectionpool - WARNING - Retrying (Retry(total=0, connect=None, read=None, redirect=None)) after connection broken by 'ConnectTimeoutError(<telegram.vendor.ptb_urllib3.urllib3.connectionpool.HTTPSConnectionPool object at 0x11028cfd0>, 'Connect timed out. (connect timeout=5.0)')': /bot584681226:AAG1F0B6Liietx8njooXXLl238x7ThjU2nQ/getUpdates\n",
      "2018-04-30 11:30:42,121 - telegram.ext.updater - ERROR - Error while getting Updates: urllib3 HTTPError HTTPSConnectionPool(host='api.telegram.org', port=443): Max retries exceeded with url: /bot584681226:AAG1F0B6Liietx8njooXXLl238x7ThjU2nQ/getUpdates (Caused by ConnectTimeoutError(<telegram.vendor.ptb_urllib3.urllib3.connectionpool.HTTPSConnectionPool object at 0x11028cfd0>, 'Connect timed out. (connect timeout=5.0)'))\n"
     ]
    },
    {
     "name": "stdout",
     "output_type": "stream",
     "text": [
      "NetworkError\n"
     ]
    },
    {
     "name": "stderr",
     "output_type": "stream",
     "text": [
      "2018-04-30 11:30:50,551 - telegram.vendor.ptb_urllib3.urllib3.connectionpool - WARNING - Retrying (Retry(total=2, connect=None, read=None, redirect=None)) after connection broken by 'ConnectTimeoutError(<telegram.vendor.ptb_urllib3.urllib3.connectionpool.HTTPSConnectionPool object at 0x11028cfd0>, 'Connect timed out. (connect timeout=5.0)')': /bot584681226:AAG1F0B6Liietx8njooXXLl238x7ThjU2nQ/getUpdates\n",
      "2018-04-30 11:30:57,584 - telegram.vendor.ptb_urllib3.urllib3.connectionpool - WARNING - Retrying (Retry(total=1, connect=None, read=None, redirect=None)) after connection broken by 'ConnectTimeoutError(<telegram.vendor.ptb_urllib3.urllib3.connectionpool.HTTPSConnectionPool object at 0x11028cfd0>, 'Connect timed out. (connect timeout=5.0)')': /bot584681226:AAG1F0B6Liietx8njooXXLl238x7ThjU2nQ/getUpdates\n",
      "2018-04-30 11:31:04,499 - telegram.vendor.ptb_urllib3.urllib3.connectionpool - WARNING - Retrying (Retry(total=0, connect=None, read=None, redirect=None)) after connection broken by 'ConnectTimeoutError(<telegram.vendor.ptb_urllib3.urllib3.connectionpool.HTTPSConnectionPool object at 0x11028cfd0>, 'Connect timed out. (connect timeout=5.0)')': /bot584681226:AAG1F0B6Liietx8njooXXLl238x7ThjU2nQ/getUpdates\n",
      "2018-04-30 11:31:13,399 - telegram.ext.updater - ERROR - Error while getting Updates: urllib3 HTTPError HTTPSConnectionPool(host='api.telegram.org', port=443): Max retries exceeded with url: /bot584681226:AAG1F0B6Liietx8njooXXLl238x7ThjU2nQ/getUpdates (Caused by ConnectTimeoutError(<telegram.vendor.ptb_urllib3.urllib3.connectionpool.HTTPSConnectionPool object at 0x11028cfd0>, 'Connect timed out. (connect timeout=5.0)'))\n"
     ]
    },
    {
     "name": "stdout",
     "output_type": "stream",
     "text": [
      "NetworkError\n"
     ]
    }
   ],
   "source": [
    "updater.start_polling()"
   ]
  },
  {
   "cell_type": "code",
   "execution_count": 8,
   "metadata": {},
   "outputs": [],
   "source": [
    "updater.stop()"
   ]
  },
  {
   "cell_type": "code",
   "execution_count": null,
   "metadata": {},
   "outputs": [],
   "source": []
  }
 ],
 "metadata": {
  "kernelspec": {
   "display_name": "Python 3",
   "language": "python",
   "name": "python3"
  },
  "language_info": {
   "codemirror_mode": {
    "name": "ipython",
    "version": 3
   },
   "file_extension": ".py",
   "mimetype": "text/x-python",
   "name": "python",
   "nbconvert_exporter": "python",
   "pygments_lexer": "ipython3",
   "version": "3.6.4"
  }
 },
 "nbformat": 4,
 "nbformat_minor": 2
}
