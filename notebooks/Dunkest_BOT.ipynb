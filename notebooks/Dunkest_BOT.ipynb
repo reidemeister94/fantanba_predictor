{
 "cells": [
  {
   "cell_type": "code",
   "execution_count": 127,
   "metadata": {},
   "outputs": [],
   "source": [
    "from urllib.request import urlopen\n",
    "import selenium\n",
    "from selenium import webdriver\n",
    "from selenium.webdriver.common.keys import Keys\n",
    "from selenium.webdriver.chrome.options import Options\n",
    "import time\n",
    "import urllib.request\n",
    "import wget\n",
    "import csv\n",
    "from pulp import *\n",
    "import operator"
   ]
  },
  {
   "cell_type": "code",
   "execution_count": 128,
   "metadata": {},
   "outputs": [],
   "source": [
    "ROTOGRINDER = True\n",
    "SPORTSLINE = False"
   ]
  },
  {
   "cell_type": "code",
   "execution_count": 129,
   "metadata": {},
   "outputs": [],
   "source": [
    "def check_last_page():\n",
    "    next_page_button = driver.find_elements_by_id(\"table_all_players_search_paginate\")[0]\n",
    "    next_page_button = next_page_button.find_elements_by_tag_name(\"a\")[1]\n",
    "    return (str(next_page_button.get_attribute('class')) != \"paginate_button next\")\n",
    "\n",
    "def fix_name(name):\n",
    "    name = name.lower().strip()\n",
    "    name_ = name.split(\" \")\n",
    "    if SPORTSLINE:\n",
    "        if len(name_) == 1 and name != \"nene\":\n",
    "            return name.lower()\n",
    "        if name_[-1].lower() == \"edrice\":\n",
    "            name_[-1] = \"bam\"\n",
    "        if name == \"capela clint\":\n",
    "            return \"clint n`dumba-capela\"\n",
    "        if name == \"nene\":\n",
    "            return \"nene hilario\"\n",
    "    if name == \"porter jr otto\":\n",
    "        return \"otto porter\"\n",
    "    if name == \"nance jr larry\":\n",
    "        return \"larry nance\"\n",
    "    if name == \"luc mbah a moute\":\n",
    "        return \"luc richard mbah a moute\"\n",
    "    if name_[-1].lower() == \"jj\":\n",
    "            name_[-1] = \"j.j.\"\n",
    "    if name_[-1].lower() == \"cj\":\n",
    "        name_[-1] = \"c.j.\"\n",
    "    if name_[-1].lower() == \"tj\":\n",
    "        name_[-1] = \"t.j.\"\n",
    "    if name_[-1].lower() == \"pj\":\n",
    "        name_[-1] = \"p.j.\"\n",
    "    if name_[-1].lower() == \"malcom\":\n",
    "        name_[-1] = \"malcolm\"\n",
    "    if len(name_) > 1:\n",
    "        name = name_[-1].lower() + \" \"\n",
    "        for i in range(0,len(name_) -1):\n",
    "            name += name_[i].lower()\n",
    "            if i < len(name_) -2:\n",
    "                name += \" \"\n",
    "    return name\n",
    "\n",
    "def fix_sisal_name_teams(teams_string):\n",
    "    teams_string_list = teams_string.lower().split(\"-\")\n",
    "    teams_string_list[0] = teams_string_list[0].strip()\n",
    "    teams_string_list[1] = teams_string_list[1].strip()\n",
    "    return (teams_string_list[0],teams_string_list[1])\n",
    "        "
   ]
  },
  {
   "cell_type": "code",
   "execution_count": 130,
   "metadata": {},
   "outputs": [],
   "source": [
    "##Adding adblock to chromedriver and starting it##\n",
    "options = webdriver.ChromeOptions()\n",
    "options.add_extension(\"/Users/silvio/Desktop/dunkest/adblock.crx\")\n",
    "driver = webdriver.Chrome(chrome_options = options)"
   ]
  },
  {
   "cell_type": "code",
   "execution_count": 131,
   "metadata": {},
   "outputs": [],
   "source": [
    "##Login to dunkest##\n",
    "driver.get('https://nba.dunkest.com/it/home')\n",
    "\n",
    "before = driver.window_handles[0]\n",
    "after = driver.window_handles[1]\n",
    "driver.switch_to_window(after)\n",
    "time.sleep(1.5)\n",
    "driver.close()\n",
    "time.sleep(1.5)\n",
    "driver.switch_to_window(before)\n",
    "\n",
    "\n",
    "username = driver.find_element_by_id(\"email\")\n",
    "password = driver.find_element_by_id(\"password\")\n",
    "username.send_keys(\"silvio.pavanetto@gmail.com\")\n",
    "password.send_keys(\"Salmousb1!\")\n",
    "\n",
    "#username.send_keys(\"kuhetave@web2mailco.com\")\n",
    "#password.send_keys(\"alpine\")\n",
    "\n",
    "driver.find_element_by_name(\"submit\").click()\n",
    "\n",
    "time.sleep(2)\n",
    "\n",
    "driver.get('https://nba.dunkest.com/it/mercato-fanta-squadra-nba')"
   ]
  },
  {
   "cell_type": "code",
   "execution_count": 132,
   "metadata": {},
   "outputs": [],
   "source": [
    "#Scraping info from dunkest :)\n",
    "credits_total = driver.find_element_by_id(\"team_quotation\")\n",
    "credits_total = float(credits_total.text)\n",
    "\n",
    "players = {}\n",
    "coaches = {}\n",
    "\n",
    "xpath = \"//table[@id='table_all_players_search']/tbody\"\n",
    "\n",
    "while (check_last_page() == False):\n",
    "    table_id = driver.find_elements_by_xpath(xpath)\n",
    "    rows = table_id[0].find_elements_by_tag_name(\"tr\") # get all of the rows in the table\n",
    "    for row in rows:\n",
    "        # Get the columns (all the column 2)\n",
    "        name_player = str(row.find_elements_by_tag_name(\"td\")[0].find_elements_by_class_name(\"player-name\")[0].find_elements_by_tag_name(\"a\")[0].get_attribute('title'))\n",
    "        name_player = fix_name(name_player)\n",
    "        position = str(row.find_elements_by_tag_name(\"td\")[1].find_elements_by_class_name(\"player-role\")[0].text)\n",
    "        name_team = str(row.find_elements_by_tag_name(\"td\")[2].find_elements_by_tag_name(\"a\")[0].get_attribute('title'))\n",
    "        credits_player = float(row.find_elements_by_tag_name(\"td\")[4].get_attribute('data-order'))\n",
    "        if position == \"HC\":\n",
    "            coaches[name_player] = [name_team.lower(),credits_player,0.0]\n",
    "        else:\n",
    "            players[name_player] = [name_team.lower(),position,credits_player,0.0,0.0]\n",
    "\n",
    "    driver.find_elements_by_id(\"table_all_players_search_paginate\")[0].find_elements_by_tag_name(\"a\")[1].click()\n",
    "\n",
    "#print(players)\n"
   ]
  },
  {
   "cell_type": "code",
   "execution_count": 133,
   "metadata": {},
   "outputs": [],
   "source": [
    "##scraping games to be played##\n",
    "games = []\n",
    "games_list = []\n",
    "xpath_games = \"//table[@class='round-list']/tbody\"\n",
    "table_id = driver.find_elements_by_xpath(xpath_games)\n",
    "rows = table_id[0].find_elements_by_tag_name(\"tr\") # get all of the rows in the table\n",
    "for row in rows:\n",
    "    home_team = str(row.find_elements_by_tag_name(\"td\")[1].find_elements_by_tag_name(\"a\")[0].text).lower()\n",
    "    away_team = str(row.find_elements_by_tag_name(\"td\")[3].find_elements_by_tag_name(\"a\")[0].text).lower()\n",
    "    \n",
    "    #here are all the matches\n",
    "    games.append([home_team,away_team]) \n",
    "    \n",
    "    #here are all the teams together\n",
    "    games_list.append(home_team) \n",
    "    games_list.append(away_team)"
   ]
  },
  {
   "cell_type": "code",
   "execution_count": 134,
   "metadata": {},
   "outputs": [],
   "source": [
    "##SCRAPING BETS FOR THE GAMES TO BE PLAYED##\n",
    "driver.execute_script(\"window.open('');\")\n",
    "time.sleep(1)\n",
    "driver.switch_to.window(driver.window_handles[1])\n",
    "driver.get('https://www.sisal.it/scommesse/basket/usa/nba')\n",
    "time.sleep(1.5)\n",
    "teams_and_bets_from_sisal = {}\n",
    "xpath_games = \"//div[@class='events']/div[@class='partitasingola'][@style='display: block;']/div\"\n",
    "xpath_teams = \".//div/p[@class='name']/a\"\n",
    "xpath_bets = \".//div[starts-with(@class, 'quota-label')]\"\n",
    "events_deep = driver.find_elements_by_xpath(xpath_games)\n",
    "i = 0\n",
    "for game in events_deep:\n",
    "    if i % 2 == 0:\n",
    "        string_teams = game.find_elements_by_xpath(xpath_teams)[0].text\n",
    "        string_teams = fix_sisal_name_teams(string_teams)\n",
    "        string_bets = game.find_elements_by_xpath(xpath_bets)\n",
    "        teams_and_bets_from_sisal[str(string_teams[0])] = float(string_bets[0].text)\n",
    "        teams_and_bets_from_sisal[str(string_teams[1])] = float(string_bets[1].text)\n",
    "    i += 1"
   ]
  },
  {
   "cell_type": "code",
   "execution_count": 135,
   "metadata": {},
   "outputs": [],
   "source": [
    "##download projections and connect them to dunkest data##\n",
    "sportsline_url = \"https://www.sportsline.com/sportsline-web/service/v1/playerProjectionsCsv?league=nba&position=all-players&sourceType=FD&page=PS&desc=false&optimal=false\"\n",
    "rotogrinder_url = \"https://rotogrinders.com/projected-stats/nba-player.csv?site=fanduel\"\n",
    "\n",
    "sportsline = wget.download(sportsline_url)\n",
    "rotogrinder = wget.download(rotogrinder_url)"
   ]
  },
  {
   "cell_type": "code",
   "execution_count": 136,
   "metadata": {},
   "outputs": [],
   "source": [
    "##ALL THE DATA HAVE BEEN COLLECTED, NOW JUST LOGIC##"
   ]
  },
  {
   "cell_type": "code",
   "execution_count": 137,
   "metadata": {},
   "outputs": [],
   "source": [
    "players_filtered = {} \n",
    "coaches_filtered = {}\n",
    "\n",
    "for key, value in players.items():\n",
    "    if value[0] in games_list:\n",
    "        players_filtered[key] = players[key]\n",
    "        \n",
    "for key, value in coaches.items():\n",
    "    if value[0] in games_list:\n",
    "        coaches_filtered[key] = coaches[key]"
   ]
  },
  {
   "cell_type": "code",
   "execution_count": 138,
   "metadata": {},
   "outputs": [],
   "source": [
    "#print(players_filtered)"
   ]
  },
  {
   "cell_type": "code",
   "execution_count": 139,
   "metadata": {},
   "outputs": [
    {
     "ename": "KeyError",
     "evalue": "'luc mbah a moute'",
     "output_type": "error",
     "traceback": [
      "\u001b[0;31m---------------------------------------------------------------------------\u001b[0m",
      "\u001b[0;31mKeyError\u001b[0m                                  Traceback (most recent call last)",
      "\u001b[0;32m<ipython-input-139-508a7d8692db>\u001b[0m in \u001b[0;36m<module>\u001b[0;34m()\u001b[0m\n\u001b[1;32m      1\u001b[0m \u001b[0;31m##Function for substitute\u001b[0m\u001b[0;34m\u001b[0m\u001b[0;34m\u001b[0m\u001b[0m\n\u001b[0;32m----> 2\u001b[0;31m \u001b[0mplayers_filtered\u001b[0m\u001b[0;34m[\u001b[0m\u001b[0;34m\"luc richard mbah a moute\"\u001b[0m\u001b[0;34m]\u001b[0m \u001b[0;34m=\u001b[0m \u001b[0mplayers_filtered\u001b[0m\u001b[0;34m.\u001b[0m\u001b[0mpop\u001b[0m\u001b[0;34m(\u001b[0m\u001b[0;34m\"luc mbah a moute\"\u001b[0m\u001b[0;34m)\u001b[0m\u001b[0;34m\u001b[0m\u001b[0m\n\u001b[0m",
      "\u001b[0;31mKeyError\u001b[0m: 'luc mbah a moute'"
     ]
    }
   ],
   "source": [
    "##Function for substitute\n",
    "players_filtered[\"luc richard mbah a moute\"] = players_filtered.pop(\"luc mbah a moute\")"
   ]
  },
  {
   "cell_type": "code",
   "execution_count": 140,
   "metadata": {},
   "outputs": [],
   "source": [
    "players_only = []\n",
    "predictions = []\n",
    "costs = []\n",
    "roles = []\n",
    "predicted_fantasy_pts = []\n",
    "\n",
    "\n",
    "'''\n",
    "##SPORTSLINE##\n",
    "with open(\"/Users/silvio/Desktop/dunkest/projections.csv\", 'r') as f:\n",
    "    reader = csv.reader(f, delimiter=',')\n",
    "\n",
    "    headers = next(reader)\n",
    "\n",
    "    #writer.writerow(headers)\n",
    "    for row in reader:\n",
    "        \n",
    "        ftm_percent = float(str(row[10])[:-1])/100\n",
    "        proj = float(row[3]) + (float(row[5])*1.5) + (float(row[11])*1.5) + (float(row[12])*1.25) + float(row[13]) + (float(row[14])*1.5) - (float(row[15])*1.5) - (float(row[9])/ftm_percent - float(row[9]))\n",
    "        proj = '%.3f'%proj\n",
    "        players_filtered[str(row[0]).lower()][3] = proj\n",
    "\n",
    "for k,v in players_filtered.items():\n",
    "    coeff = float(v[3])/float(v[2])\n",
    "    coeff = '%.4f'%coeff\n",
    "    players_filtered[k] = [v[0],v[1],v[2],v[3],coeff]\n",
    "'''\n",
    "\n",
    "##ROTOGRINDER##\n",
    "with open(\"/Users/silvio/Desktop/dunkest/nba-player.csv\", 'r') as f:\n",
    "    reader = csv.reader(f, delimiter=',')\n",
    "\n",
    "    for row in reader:\n",
    "        low = row[6].strip()\n",
    "        high = row[5].strip()\n",
    "        if len(low) > 0:\n",
    "            score = (float(low)/float(high))*float(row[7].strip())\n",
    "            #score = '%.4f'%score\n",
    "            players_filtered[str(row[0]).lower().strip()][3] = score\n",
    "            players_filtered[str(row[0]).lower().strip()][4] = float(row[7])\n",
    "        else:\n",
    "            players_filtered[str(row[0]).lower().strip()][3] = float(row[7])\n",
    "\n",
    "for k,v in players_filtered.items():\n",
    "    players_only.append(k)\n",
    "    predictions.append(v[3])\n",
    "    costs.append(v[2])\n",
    "    roles.append(v[1])\n",
    "    predicted_fantasy_pts.append(float(v[4]))\n",
    "    "
   ]
  },
  {
   "cell_type": "code",
   "execution_count": 141,
   "metadata": {},
   "outputs": [],
   "source": [
    "players_filtered_by_score = sorted(players_filtered.items(), key=lambda e: e[1][3], reverse = True)"
   ]
  },
  {
   "cell_type": "raw",
   "metadata": {},
   "source": [
    "for k,v in players_filtered_by_coeff:\n",
    "    print(k.upper())\n",
    "    print(\"TEAM: \" + str(v[0]))\n",
    "    print(\"ROLE: \" + str(v[1]))\n",
    "    print(\"COST: \" + str(v[2]))\n",
    "    print(\"SCORE: \" + str(v[3]))\n",
    "    print(\"COEFF: \" + str(v[4]))\n",
    "    print(\"-----------\")"
   ]
  },
  {
   "cell_type": "raw",
   "metadata": {},
   "source": [
    "for k,v in players_filtered_by_score:\n",
    "    print(k.upper())\n",
    "    print(\"TEAM: \" + str(v[0]))\n",
    "    print(\"ROLE: \" + str(v[1]))\n",
    "    print(\"COST: \" + str(v[2]))\n",
    "    print(\"SCORE: \" + str(v[3]))\n",
    "    print(\"PREDICTION: \" + str(v[4]))\n",
    "    print(\"-----------\")"
   ]
  },
  {
   "cell_type": "raw",
   "metadata": {},
   "source": [
    "##Query over dict##\n",
    "for k,v in players_filtered_by_score:\n",
    "    if v[2] < 5 and v[1] == \"C\":\n",
    "        print(k.upper())\n",
    "        print(\"TEAM: \" + str(v[0]))\n",
    "        print(\"ROLE: \" + str(v[1]))\n",
    "        print(\"COST: \" + str(v[2]))\n",
    "        print(\"SCORE: \" + str(v[3]))\n",
    "        print(\"COEFF: \" + str(v[4]))\n",
    "        print(\"-----------\")"
   ]
  },
  {
   "cell_type": "code",
   "execution_count": 142,
   "metadata": {
    "scrolled": true
   },
   "outputs": [],
   "source": [
    "##FIRST OF ALL, SELECT THE BEST COACH##\n",
    "\n",
    "for k,v in coaches_filtered.items():\n",
    "    score = 1/(teams_and_bets_from_sisal[v[0]]*float(v[1]))\n",
    "    coaches_filtered[k] = [v[0],v[1],score]\n",
    "\n",
    "coaches_sorted = sorted(coaches_filtered.items(), key=lambda e: e[1][2], reverse = True)\n",
    "\n",
    "coach_selected = coaches_sorted[0]"
   ]
  },
  {
   "cell_type": "code",
   "execution_count": 143,
   "metadata": {},
   "outputs": [],
   "source": [
    "coach_enabled = True"
   ]
  },
  {
   "cell_type": "code",
   "execution_count": null,
   "metadata": {},
   "outputs": [],
   "source": [
    "#print(players_only,roles,costs,predictions,predicted_fantasy_pts)\n",
    "credits_total = 105"
   ]
  },
  {
   "cell_type": "code",
   "execution_count": 144,
   "metadata": {},
   "outputs": [
    {
     "name": "stdout",
     "output_type": "stream",
     "text": [
      "Insert a list of players you want to keep, separated by a comma: \n"
     ]
    }
   ],
   "source": [
    "keep_players = []\n",
    "keep_players = [str(x).lower().strip() for x in input(\"Insert a list of players you want to keep, separated by a comma: \").split(\",\")]\n",
    "for i in range(0,len(keep_players)):\n",
    "    if (len(keep_players[i]) == 0) or (keep_players[i] not in players_filtered):\n",
    "        keep_players.pop(i)\n",
    "        \n",
    "total_cost = 0\n",
    "total_points = 0\n",
    "credits_total = credits_total - sum(players_filtered[elem][2] for elem in keep_players)\n",
    "\n",
    "for i in range(0,len(keep_players)):\n",
    "    index = players_only.index(keep_players[i])\n",
    "    players_only.pop(index)\n",
    "    roles.pop(index)\n",
    "    total_cost += costs.pop(index)\n",
    "    predictions.pop(index)\n",
    "    total_points += predicted_fantasy_pts.pop(index)"
   ]
  },
  {
   "cell_type": "code",
   "execution_count": 145,
   "metadata": {},
   "outputs": [],
   "source": [
    "P = range(len(players_only))\n",
    "\n",
    "# Declare problem instance, maximization problem\n",
    "prob = LpProblem(\"Portfolio\", LpMaximize)\n",
    "\n",
    "# Declare decision variable x, which is 1 if a\n",
    "# player is part of the portfolio and 0 else\n",
    "x = LpVariable.matrix(\"x\", list(P), 0, 1, LpInteger)\n",
    "\n",
    "# Objective function -> Maximize votes\n",
    "prob += sum(predictions[p] * x[p] for p in P)\n",
    "\n",
    "# Constraint definition\n",
    "prob += sum(x[p] for p in P) == 10\n",
    "if coach_enabled:\n",
    "    prob += sum(costs[p] * x[p] for p in P) <= (credits_total - coach_selected[1][1])\n",
    "else:\n",
    "    prob += sum(costs[p] * x[p] for p in P) <= credits_total - 7.9\n",
    "prob += sum(x[p] for p in P if roles[p] == \"G\") == 4\n",
    "prob += sum(x[p] for p in P if roles[p] == \"A\") == 4\n",
    "prob += sum(x[p] for p in P if roles[p] == \"C\") == 2\n",
    "#prob += x[p] for p in P if predicted_fantasy_pts[p] == max(predicted_fantasy_pts)\n",
    "\n",
    "\n",
    "# Start solving the problem instance\n",
    "prob.solve()\n",
    "\n",
    "# Extract solution\n",
    "portfolio = [(players_only[p],roles[p],costs[p],predictions[p],predicted_fantasy_pts[p]) for p in P if x[p].varValue]\n",
    "portfolio = sorted(portfolio, key=lambda x: x[2], reverse = True)"
   ]
  },
  {
   "cell_type": "code",
   "execution_count": 146,
   "metadata": {
    "scrolled": true
   },
   "outputs": [
    {
     "name": "stdout",
     "output_type": "stream",
     "text": [
      "COACH: \n",
      "NAME: BRETT BROWN\n",
      "TEAM: PHILADELPHIA 76ERS\n",
      "COST: 8.5\n",
      "\n",
      ">>>>>>>>>>>>>>>>>>>>>>>>>>>>>>>>>>\n",
      "\n",
      "PLAYERS\n",
      "PLAYER: BEN SIMMONS\n",
      "ROLE: G\n",
      "COST: 16.1\n",
      "SCORE: 26.981259842519684\n",
      "PREDICTION: 46.94\n",
      "-------------------\n",
      "PLAYER: JOEL EMBIID\n",
      "ROLE: C\n",
      "COST: 15.8\n",
      "SCORE: 26.58375\n",
      "PREDICTION: 47.26\n",
      "-------------------\n",
      "PLAYER: AL HORFORD\n",
      "ROLE: C\n",
      "COST: 13.9\n",
      "SCORE: 22.19625\n",
      "PREDICTION: 39.46\n",
      "-------------------\n",
      "PLAYER: JAYSON TATUM\n",
      "ROLE: A\n",
      "COST: 9.9\n",
      "SCORE: 15.244160583941605\n",
      "PREDICTION: 33.15\n",
      "-------------------\n",
      "PLAYER: ROBERT COVINGTON\n",
      "ROLE: A\n",
      "COST: 8.8\n",
      "SCORE: 13.828148148148147\n",
      "PREDICTION: 28.72\n",
      "-------------------\n",
      "PLAYER: MARCUS MORRIS\n",
      "ROLE: A\n",
      "COST: 8.0\n",
      "SCORE: 13.384887218045113\n",
      "PREDICTION: 26.57\n",
      "-------------------\n",
      "PLAYER: MARCUS SMART\n",
      "ROLE: G\n",
      "COST: 7.8\n",
      "SCORE: 13.119999999999997\n",
      "PREDICTION: 27.88\n",
      "-------------------\n",
      "PLAYER: MARCO BELINELLI\n",
      "ROLE: G\n",
      "COST: 7.6\n",
      "SCORE: 8.01986013986014\n",
      "PREDICTION: 20.12\n",
      "-------------------\n",
      "PLAYER: SEMI OJELEYE\n",
      "ROLE: A\n",
      "COST: 4.1\n",
      "SCORE: 1.6666666666666665\n",
      "PREDICTION: 15.0\n",
      "-------------------\n",
      "PLAYER: JABARI BIRD\n",
      "ROLE: G\n",
      "COST: 4.0\n",
      "SCORE: 0.0\n",
      "PREDICTION: 0.0\n",
      "-------------------\n",
      "TOTAL COST: 95.99999999999999\n",
      "TOTAL SCORE: 285.09999999999997\n"
     ]
    }
   ],
   "source": [
    "##FINAL PRINT OF THE TEAM, MAXIMIZING THE TOTAL SCORE##\n",
    "if coach_enabled:\n",
    "    print(\"COACH: \")\n",
    "    print(\"NAME: \" + str(coach_selected[0].upper()))\n",
    "    print(\"TEAM: \" + str(coach_selected[1][0]).upper())\n",
    "    print(\"COST: \" + str(coach_selected[1][1]))\n",
    "    print(\"\")\n",
    "    print(\">>>>>>>>>>>>>>>>>>>>>>>>>>>>>>>>>>\")\n",
    "    print(\"\")\n",
    "    print(\"PLAYERS\")\n",
    "    \n",
    "if len(keep_players) > 0:\n",
    "    for p in keep_players:\n",
    "        print(\"PLAYER: \" + p.upper())\n",
    "        print(\"ROLE: \" + str(players_filtered[p][1]))\n",
    "        print(\"COST: \" + str(players_filtered[p][2]))\n",
    "        print(\"SCORE: \" + str(players_filtered[p][3]))\n",
    "        print(\"PREDICTION: \" + str(players_filtered[p][4]))\n",
    "        print(\"-------------------\")\n",
    "\n",
    "for player,role,cost,pred,pts in portfolio:\n",
    "    total_cost += cost\n",
    "    total_points += pts\n",
    "    print(\"PLAYER: \" + player.upper())\n",
    "    print(\"ROLE: \" + str(role))\n",
    "    print(\"COST: \" + str(cost))\n",
    "    print(\"SCORE: \" + str(pred))\n",
    "    print(\"PREDICTION: \" + str(pts))\n",
    "    print(\"-------------------\")\n",
    "print(\"TOTAL COST: \" + str(total_cost))\n",
    "print(\"TOTAL SCORE: \" + str(total_points))"
   ]
  },
  {
   "cell_type": "code",
   "execution_count": null,
   "metadata": {},
   "outputs": [],
   "source": []
  }
 ],
 "metadata": {
  "kernelspec": {
   "display_name": "Python 3",
   "language": "python",
   "name": "python3"
  },
  "language_info": {
   "codemirror_mode": {
    "name": "ipython",
    "version": 3
   },
   "file_extension": ".py",
   "mimetype": "text/x-python",
   "name": "python",
   "nbconvert_exporter": "python",
   "pygments_lexer": "ipython3",
   "version": "3.6.4"
  }
 },
 "nbformat": 4,
 "nbformat_minor": 2
}
