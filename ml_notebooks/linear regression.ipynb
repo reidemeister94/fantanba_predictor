{
 "cells": [
  {
   "cell_type": "code",
   "execution_count": null,
   "metadata": {},
   "outputs": [],
   "source": [
    "import numpy as np\n",
    "import pandas as pd\n",
    "import json\n",
    "from sklearn.linear_model import LinearRegression\n",
    "import os\n",
    "from pprint import pprint\n",
    "import requests\n",
    "import urllib3\n",
    "import ssl\n",
    "from datetime import datetime\n",
    "\n",
    "urllib3.disable_warnings(urllib3.exceptions.InsecureRequestWarning)\n",
    "ssl._create_default_https_context = ssl._create_unverified_context"
   ]
  },
  {
   "cell_type": "code",
   "execution_count": null,
   "metadata": {},
   "outputs": [],
   "source": [
    "players_splits = None\n",
    "players_info = None\n",
    "opp_stats_G = None\n",
    "opp_stats_A = None\n",
    "opp_stats_C = None\n",
    "with open('../data/full_players_splits.json') as f:\n",
    "    players_splits = json.load(f)\n",
    "with open('../data/players_filtered.json') as f:\n",
    "    players_info = json.load(f)\n",
    "with open('../data/opponent_stats_G.json') as f:\n",
    "    opp_stats_G = json.load(f)\n",
    "with open('../data/opponent_stats_F.json') as f:\n",
    "    opp_stats_A = json.load(f)\n",
    "with open('../data/opponent_stats_C.json') as f:\n",
    "    opp_stats_C = json.load(f)"
   ]
  },
  {
   "cell_type": "code",
   "execution_count": null,
   "metadata": {},
   "outputs": [],
   "source": [
    "def get_fg_percentage(str_miss):\n",
    "    if type(str_miss) is float:\n",
    "        return str_miss\n",
    "    not_miss = float(str_miss.split('-')[0])\n",
    "    total = float(str_miss.split('-')[1])\n",
    "    if total == 0.0:\n",
    "        return 0.0\n",
    "    return (not_miss / total) * 100"
   ]
  },
  {
   "cell_type": "code",
   "execution_count": null,
   "metadata": {},
   "outputs": [],
   "source": [
    "def clean_name(first_name_player, surname_player):\n",
    "    return (first_name_player + \" \" + surname_player).strip().lower().replace(\n",
    "        \".\", \"\").replace('byombo',\n",
    "                         'biyombo').replace('malcom', 'malcolm').replace(\n",
    "                             'mohamed bamba', 'mo bamba').replace(\n",
    "                                 'hilario nene', 'nene hilario').replace(\n",
    "                                     'kelly oubre', 'kelly oubre jr').replace(\n",
    "                                         'edrice adebayo', 'bam adebayo')"
   ]
  },
  {
   "cell_type": "code",
   "execution_count": null,
   "metadata": {},
   "outputs": [],
   "source": [
    "def get_current_round():\n",
    "    response = requests.get(\n",
    "        'https://api.dunkest.com/api/rounds/current?league_id=1&fanta_league_id=1',\n",
    "        verify=False)\n",
    "    current_round = json.loads(response.text)\n",
    "    return current_round['id']\n",
    "\n",
    "def get_score_player(id_round, id_player):\n",
    "    response = requests.get(\n",
    "        'https://api.dunkest.com/api/players/' + str(id_player)\n",
    "        + '/details?league_id=1&round_id=' + str(id_round),\n",
    "        verify=False)\n",
    "    current_round_stats = json.loads(response.text)\n",
    "    return current_round_stats['score']"
   ]
  },
  {
   "cell_type": "code",
   "execution_count": null,
   "metadata": {},
   "outputs": [],
   "source": [
    "players_resp = requests.get('https://api.dunkest.com/api/players?league_id=1',verify=False)\n",
    "players_info_dunkest = json.loads(players_resp.text)\n",
    "print(players_info_dunkest[0])"
   ]
  },
  {
   "cell_type": "code",
   "execution_count": null,
   "metadata": {},
   "outputs": [],
   "source": [
    "i = 0\n",
    "len_p = len(players_info_dunkest)\n",
    "now = datetime.now()\n",
    "players_info_dict = {}\n",
    "id_round = get_current_round()\n",
    "for player in players_info_dunkest:\n",
    "    time_game = player['game_date']\n",
    "    time_game = datetime.strptime(time_game, '%Y-%m-%d %H:%M:%S')\n",
    "    if now > time_game and player['role_tag'] != \"COACH\" and player['lineup_tag'] != 'QUESTIONABLE'\\\n",
    "       and player['lineup_tag'] != 'INJURED' and player['lineup_tag'] != 'DISQUALIFIED'\\\n",
    "       and 'IN_DOUBT' not in player['lineup_tag']:\n",
    "        first_name_player = player[\"name\"]\n",
    "        surname_player = player[\"surname\"]\n",
    "        name_player = clean_name(first_name_player, surname_player)\n",
    "        print(\"{}   {} of {}\".format(name_player, i, len_p))\n",
    "        score = get_score_player(id_round, player['id'])\n",
    "        players_info_dict[name_player] = [player['id'], player['opposing_team_name'].lower(),\n",
    "                                          score, player['role_tag']]\n",
    "        print(\"score: {}\".format(score))\n",
    "        i += 1\n",
    "print(\"{} players computed, {} players skipped\".format(i, len_p - i))\n",
    "\n",
    "#for p in players_info_dunkest:\n",
    "#    players_info_dict"
   ]
  },
  {
   "cell_type": "code",
   "execution_count": null,
   "metadata": {},
   "outputs": [],
   "source": [
    "X_dataset = []\n",
    "y_dataset = []\n",
    "list_players = []\n",
    "inverted_dict = {}\n",
    "\n",
    "for player, splits in players_splits.items():\n",
    "    if players_info_dict.get(player, None) is None:\n",
    "        continue\n",
    "    list_players.append(player)\n",
    "    p_score = float(players_info_dict.get(player,None)[2])\n",
    "    y_dataset.append(p_score)\n",
    "    row_features = []\n",
    "    if general_splits:\n",
    "        del general_splits\n",
    "    general_splits = splits['all splits']\n",
    "    print(general_splits)\n",
    "    general_splits[2] = get_fg_percentage(general_splits[2])\n",
    "    general_splits[4] = get_fg_percentage(general_splits[4])\n",
    "    general_splits[6] = get_fg_percentage(general_splits[6])\n",
    "    vs_team = players_info_dict.get(player,None)[1]\n",
    "    p_role = players_info[player][1]\n",
    "    opp_stats = []\n",
    "    row_features += general_splits\n",
    "    #print(len(row_features))\n",
    "    if p_role is 'G':\n",
    "        opp_stats = opp_stats_G[vs_team]\n",
    "    elif p_role is 'A':\n",
    "        opp_stats = opp_stats_A[vs_team]\n",
    "    elif p_role is 'C':\n",
    "        opp_stats = opp_stats_C[vs_team]\n",
    "    #print(len(opp_stats))\n",
    "    row_features += opp_stats\n",
    "    row_features = [float(elem) for elem in row_features]\n",
    "    X_dataset.append(row_features)\n",
    "    inverted_dict[sum(row_features)] = player\n",
    "    print(row_features)\n",
    "    print(\"=\" * 60)\n",
    "    #print(len(row_features))"
   ]
  },
  {
   "cell_type": "code",
   "execution_count": null,
   "metadata": {},
   "outputs": [],
   "source": [
    "from sklearn.model_selection import train_test_split\n",
    "X_train, X_test, y_train, y_test = train_test_split(X_dataset, y_dataset, test_size=0.2, train_size=0.8, random_state=0)"
   ]
  },
  {
   "cell_type": "code",
   "execution_count": null,
   "metadata": {},
   "outputs": [],
   "source": [
    "model = LinearRegression().fit(X_train, y_train)"
   ]
  },
  {
   "cell_type": "code",
   "execution_count": null,
   "metadata": {},
   "outputs": [],
   "source": [
    "y_pred = model.predict(X_test)"
   ]
  },
  {
   "cell_type": "code",
   "execution_count": null,
   "metadata": {},
   "outputs": [],
   "source": [
    "from sklearn.metrics import mean_squared_error\n",
    "\n",
    "for elem in range(len(y_pred)):\n",
    "    print(inverted_dict[sum(X_test[elem])])\n",
    "    print(y_test[elem], y_pred[elem])\n",
    "\n",
    "print(mean_squared_error(y_test, y_pred))"
   ]
  }
 ],
 "metadata": {
  "kernelspec": {
   "display_name": "Python 3",
   "language": "python",
   "name": "python3"
  },
  "language_info": {
   "codemirror_mode": {
    "name": "ipython",
    "version": 3
   },
   "file_extension": ".py",
   "mimetype": "text/x-python",
   "name": "python",
   "nbconvert_exporter": "python",
   "pygments_lexer": "ipython3",
   "version": "3.7.4"
  }
 },
 "nbformat": 4,
 "nbformat_minor": 2
}
